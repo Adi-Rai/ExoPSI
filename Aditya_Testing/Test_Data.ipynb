{
 "cells": [
  {
   "cell_type": "code",
   "execution_count": 8,
   "metadata": {},
   "outputs": [
    {
     "name": "stdout",
     "output_type": "stream",
     "text": [
      "          P_NAME      P_MASS  P_MASS_ERROR_MIN  P_MASS_ERROR_MAX  P_RADIUS  \\\n",
      "0       11 Com b  6165.86330       -476.742000        476.742000   12.1068   \n",
      "1       11 UMi b  4684.78480       -794.570010        794.570010   12.2189   \n",
      "2       14 And b  1525.57440               NaN               NaN   12.8915   \n",
      "3       14 Her b  2586.74170       -308.970140        492.671540   12.5552   \n",
      "4     16 Cyg B b   565.73385        -25.426240         25.426240   13.4520   \n",
      "...          ...         ...               ...               ...       ...   \n",
      "5215   ups And b   218.53853         -1.398443          1.398443   14.0125   \n",
      "5216   ups And c  4443.23550      -1684.488400        731.004410   12.3310   \n",
      "5217   ups And d  3257.73700      -1048.832400        222.479600   12.4431   \n",
      "5218   ups Leo b   162.09228        -82.635281         19.069680   14.2367   \n",
      "5219         NaN   889.91841               NaN               NaN   13.2278   \n",
      "\n",
      "      P_RADIUS_ERROR_MIN  P_RADIUS_ERROR_MAX  P_YEAR P_UPDATED     P_PERIOD  \\\n",
      "0                    NaN                 NaN  2007.0   2008-01   326.030000   \n",
      "1                    NaN                 NaN  2009.0   2009-10   516.219970   \n",
      "2                    NaN                 NaN  2008.0   2008-12   185.840000   \n",
      "3                    NaN                 NaN  2002.0   2003-01  1765.038900   \n",
      "4                    NaN                 NaN  1996.0   1997-07   798.500000   \n",
      "...                  ...                 ...     ...       ...          ...   \n",
      "5215                 NaN                 NaN  1996.0   1997-01     4.617033   \n",
      "5216                 NaN                 NaN  1999.0   1999-12   241.258000   \n",
      "5217                 NaN                 NaN  1999.0   1999-12  1276.460000   \n",
      "5218                 NaN                 NaN  2021.0   2021-12   385.200000   \n",
      "5219                 NaN                 NaN  2007.0       NaN   136.750000   \n",
      "\n",
      "      ...  S_ABIO_ZONE  S_TIDAL_LOCK  P_HABZONE_OPT  P_HABZONE_CON  \\\n",
      "0     ...     0.476460      0.642400              0              0   \n",
      "1     ...     0.193891      0.541702              0              0   \n",
      "2     ...     0.502752      0.597816              0              0   \n",
      "3     ...     0.923150      0.434927              0              0   \n",
      "4     ...     1.983658      0.512355              1              1   \n",
      "...   ...          ...           ...            ...            ...   \n",
      "5215  ...     4.244291      0.510545              0              0   \n",
      "5216  ...     4.244291      0.510545              0              0   \n",
      "5217  ...     4.244291      0.510545              1              1   \n",
      "5218  ...     0.458277      0.525741              0              0   \n",
      "5219  ...     0.475042      0.645023              0              0   \n",
      "\n",
      "      P_TYPE_TEMP  P_HABITABLE     P_ESI  S_CONSTELLATION  \\\n",
      "0             Hot            0  0.083004   Coma Berenices   \n",
      "1             Hot            0  0.081792       Ursa Minor   \n",
      "2             Hot            0  0.081758        Andromeda   \n",
      "3            Cold            0  0.163310         Hercules   \n",
      "4            Warm            0  0.368405           Cygnus   \n",
      "...           ...          ...       ...              ...   \n",
      "5215          Hot            0  0.065354        Andromeda   \n",
      "5216          Hot            0  0.234670        Andromeda   \n",
      "5217         Warm            0  0.365111        Andromeda   \n",
      "5218          Hot            0  0.084996              Leo   \n",
      "5219          Hot            0  0.074749           Aquila   \n",
      "\n",
      "      S_CONSTELLATION_ABR  S_CONSTELLATION_ENG  \n",
      "0                     Com      Berenice's Hair  \n",
      "1                     UMi          Little Bear  \n",
      "2                     And            Andromeda  \n",
      "3                     Her             Hercules  \n",
      "4                     Cyg                 Swan  \n",
      "...                   ...                  ...  \n",
      "5215                  And            Andromeda  \n",
      "5216                  And            Andromeda  \n",
      "5217                  And            Andromeda  \n",
      "5218                  Leo                 Lion  \n",
      "5219                  Aql                Eagle  \n",
      "\n",
      "[5220 rows x 103 columns]\n"
     ]
    }
   ],
   "source": [
    "from ExoPSI import exopsi\n",
    "import pandas as pd\n",
    "import numpy as np\n",
    "\n",
    "exopsi = exopsi()\n",
    "\n",
    "#Loading the dataset\n",
    "df = pd.read_csv(r\"C:\\Users\\raiad\\Downloads\\phl_exoplanet_catalog.csv\") \n",
    "print(df)"
   ]
  },
  {
   "cell_type": "code",
   "execution_count": 9,
   "metadata": {},
   "outputs": [
    {
     "name": "stdout",
     "output_type": "stream",
     "text": [
      "The calculated weight(s) is(are): [0.57, 1.07, 0.7, 5.58]\n"
     ]
    }
   ],
   "source": [
    "#Weight Calculation\n",
    "upper_lims=[1.9, 1.5,1.4,323]\n",
    "lower_lims = [0.5, 0.7,0.4,273]\n",
    "ref_val = [1,1,1,288]\n",
    "weights = exopsi.calc_weight(ref_val,upper_lims,lower_lims)"
   ]
  },
  {
   "cell_type": "code",
   "execution_count": 10,
   "metadata": {},
   "outputs": [
    {
     "ename": "KeyError",
     "evalue": "\"['P_TEMP_MEASURED'] not in index\"",
     "output_type": "error",
     "traceback": [
      "\u001b[1;31m---------------------------------------------------------------------------\u001b[0m",
      "\u001b[1;31mKeyError\u001b[0m                                  Traceback (most recent call last)",
      "\u001b[1;32m~\\AppData\\Local\\Temp/ipykernel_50192/2590532147.py\u001b[0m in \u001b[0;36m<module>\u001b[1;34m\u001b[0m\n\u001b[0;32m      1\u001b[0m \u001b[1;31m#PSI Calculation\u001b[0m\u001b[1;33m\u001b[0m\u001b[1;33m\u001b[0m\u001b[0m\n\u001b[1;32m----> 2\u001b[1;33m PSI_data = exopsi.calc_psi(df[['P_RADIUS','P_DENSITY','P_ESCAPE','P_TEMP_MEASURED']],upper_lims,lower_lims,ref_val,0.8,\n\u001b[0m\u001b[0;32m      3\u001b[0m                            \u001b[0msurf_param\u001b[0m\u001b[1;33m=\u001b[0m\u001b[1;33m[\u001b[0m\u001b[1;34m'P_ESCAPE'\u001b[0m\u001b[1;33m,\u001b[0m\u001b[1;34m'P_TEMP_MEASURED'\u001b[0m\u001b[1;33m]\u001b[0m\u001b[1;33m,\u001b[0m\u001b[1;33m\u001b[0m\u001b[1;33m\u001b[0m\u001b[0m\n\u001b[0;32m      4\u001b[0m                            \u001b[0mint_param\u001b[0m\u001b[1;33m=\u001b[0m\u001b[1;33m[\u001b[0m\u001b[1;34m'P_RADIUS'\u001b[0m\u001b[1;33m,\u001b[0m\u001b[1;34m'P_DENSITY'\u001b[0m\u001b[1;33m]\u001b[0m\u001b[1;33m,\u001b[0m\u001b[1;33m\u001b[0m\u001b[1;33m\u001b[0m\u001b[0m\n\u001b[0;32m      5\u001b[0m                            p_index=df.loc[:,'P_NAME'])\n",
      "\u001b[1;32mc:\\Users\\raiad\\anaconda3\\lib\\site-packages\\pandas\\core\\frame.py\u001b[0m in \u001b[0;36m__getitem__\u001b[1;34m(self, key)\u001b[0m\n\u001b[0;32m   3462\u001b[0m             \u001b[1;32mif\u001b[0m \u001b[0mis_iterator\u001b[0m\u001b[1;33m(\u001b[0m\u001b[0mkey\u001b[0m\u001b[1;33m)\u001b[0m\u001b[1;33m:\u001b[0m\u001b[1;33m\u001b[0m\u001b[1;33m\u001b[0m\u001b[0m\n\u001b[0;32m   3463\u001b[0m                 \u001b[0mkey\u001b[0m \u001b[1;33m=\u001b[0m \u001b[0mlist\u001b[0m\u001b[1;33m(\u001b[0m\u001b[0mkey\u001b[0m\u001b[1;33m)\u001b[0m\u001b[1;33m\u001b[0m\u001b[1;33m\u001b[0m\u001b[0m\n\u001b[1;32m-> 3464\u001b[1;33m             \u001b[0mindexer\u001b[0m \u001b[1;33m=\u001b[0m \u001b[0mself\u001b[0m\u001b[1;33m.\u001b[0m\u001b[0mloc\u001b[0m\u001b[1;33m.\u001b[0m\u001b[0m_get_listlike_indexer\u001b[0m\u001b[1;33m(\u001b[0m\u001b[0mkey\u001b[0m\u001b[1;33m,\u001b[0m \u001b[0maxis\u001b[0m\u001b[1;33m=\u001b[0m\u001b[1;36m1\u001b[0m\u001b[1;33m)\u001b[0m\u001b[1;33m[\u001b[0m\u001b[1;36m1\u001b[0m\u001b[1;33m]\u001b[0m\u001b[1;33m\u001b[0m\u001b[1;33m\u001b[0m\u001b[0m\n\u001b[0m\u001b[0;32m   3465\u001b[0m \u001b[1;33m\u001b[0m\u001b[0m\n\u001b[0;32m   3466\u001b[0m         \u001b[1;31m# take() does not accept boolean indexers\u001b[0m\u001b[1;33m\u001b[0m\u001b[1;33m\u001b[0m\u001b[0m\n",
      "\u001b[1;32mc:\\Users\\raiad\\anaconda3\\lib\\site-packages\\pandas\\core\\indexing.py\u001b[0m in \u001b[0;36m_get_listlike_indexer\u001b[1;34m(self, key, axis)\u001b[0m\n\u001b[0;32m   1312\u001b[0m             \u001b[0mkeyarr\u001b[0m\u001b[1;33m,\u001b[0m \u001b[0mindexer\u001b[0m\u001b[1;33m,\u001b[0m \u001b[0mnew_indexer\u001b[0m \u001b[1;33m=\u001b[0m \u001b[0max\u001b[0m\u001b[1;33m.\u001b[0m\u001b[0m_reindex_non_unique\u001b[0m\u001b[1;33m(\u001b[0m\u001b[0mkeyarr\u001b[0m\u001b[1;33m)\u001b[0m\u001b[1;33m\u001b[0m\u001b[1;33m\u001b[0m\u001b[0m\n\u001b[0;32m   1313\u001b[0m \u001b[1;33m\u001b[0m\u001b[0m\n\u001b[1;32m-> 1314\u001b[1;33m         \u001b[0mself\u001b[0m\u001b[1;33m.\u001b[0m\u001b[0m_validate_read_indexer\u001b[0m\u001b[1;33m(\u001b[0m\u001b[0mkeyarr\u001b[0m\u001b[1;33m,\u001b[0m \u001b[0mindexer\u001b[0m\u001b[1;33m,\u001b[0m \u001b[0maxis\u001b[0m\u001b[1;33m)\u001b[0m\u001b[1;33m\u001b[0m\u001b[1;33m\u001b[0m\u001b[0m\n\u001b[0m\u001b[0;32m   1315\u001b[0m \u001b[1;33m\u001b[0m\u001b[0m\n\u001b[0;32m   1316\u001b[0m         if needs_i8_conversion(ax.dtype) or isinstance(\n",
      "\u001b[1;32mc:\\Users\\raiad\\anaconda3\\lib\\site-packages\\pandas\\core\\indexing.py\u001b[0m in \u001b[0;36m_validate_read_indexer\u001b[1;34m(self, key, indexer, axis)\u001b[0m\n\u001b[0;32m   1375\u001b[0m \u001b[1;33m\u001b[0m\u001b[0m\n\u001b[0;32m   1376\u001b[0m             \u001b[0mnot_found\u001b[0m \u001b[1;33m=\u001b[0m \u001b[0mlist\u001b[0m\u001b[1;33m(\u001b[0m\u001b[0mensure_index\u001b[0m\u001b[1;33m(\u001b[0m\u001b[0mkey\u001b[0m\u001b[1;33m)\u001b[0m\u001b[1;33m[\u001b[0m\u001b[0mmissing_mask\u001b[0m\u001b[1;33m.\u001b[0m\u001b[0mnonzero\u001b[0m\u001b[1;33m(\u001b[0m\u001b[1;33m)\u001b[0m\u001b[1;33m[\u001b[0m\u001b[1;36m0\u001b[0m\u001b[1;33m]\u001b[0m\u001b[1;33m]\u001b[0m\u001b[1;33m.\u001b[0m\u001b[0munique\u001b[0m\u001b[1;33m(\u001b[0m\u001b[1;33m)\u001b[0m\u001b[1;33m)\u001b[0m\u001b[1;33m\u001b[0m\u001b[1;33m\u001b[0m\u001b[0m\n\u001b[1;32m-> 1377\u001b[1;33m             \u001b[1;32mraise\u001b[0m \u001b[0mKeyError\u001b[0m\u001b[1;33m(\u001b[0m\u001b[1;34mf\"{not_found} not in index\"\u001b[0m\u001b[1;33m)\u001b[0m\u001b[1;33m\u001b[0m\u001b[1;33m\u001b[0m\u001b[0m\n\u001b[0m\u001b[0;32m   1378\u001b[0m \u001b[1;33m\u001b[0m\u001b[0m\n\u001b[0;32m   1379\u001b[0m \u001b[1;33m\u001b[0m\u001b[0m\n",
      "\u001b[1;31mKeyError\u001b[0m: \"['P_TEMP_MEASURED'] not in index\""
     ]
    }
   ],
   "source": [
    "#PSI Calculation\n",
    "PSI_data = exopsi.calc_psi(df[['P_RADIUS','P_DENSITY','P_ESCAPE','P_TEMP_EQUIL']],upper_lims,lower_lims,ref_val,0.8,\n",
    "                           surf_param=['P_ESCAPE','P_TEMP_EQUIL'],\n",
    "                           int_param=['P_RADIUS','P_DENSITY'],\n",
    "                           p_index=df.loc[:,'P_NAME'])\n",
    "print(PSI_data)\n"
   ]
  },
  {
   "cell_type": "code",
   "execution_count": null,
   "metadata": {},
   "outputs": [],
   "source": []
  }
 ],
 "metadata": {
  "kernelspec": {
   "display_name": "base",
   "language": "python",
   "name": "python3"
  },
  "language_info": {
   "codemirror_mode": {
    "name": "ipython",
    "version": 3
   },
   "file_extension": ".py",
   "mimetype": "text/x-python",
   "name": "python",
   "nbconvert_exporter": "python",
   "pygments_lexer": "ipython3",
   "version": "3.9.7"
  },
  "orig_nbformat": 4
 },
 "nbformat": 4,
 "nbformat_minor": 2
}
