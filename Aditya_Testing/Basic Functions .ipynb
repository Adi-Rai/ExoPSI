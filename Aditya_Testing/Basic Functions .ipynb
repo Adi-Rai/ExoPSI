{
 "cells": [
  {
   "cell_type": "code",
   "execution_count": 54,
   "id": "6695f97e",
   "metadata": {},
   "outputs": [],
   "source": [
    "import math\n",
    "import pandas as pd\n",
    "import numpy as np\n",
    "import matplotlib.pyplot as plt"
   ]
  },
  {
   "cell_type": "code",
   "execution_count": 55,
   "id": "d50b54e9",
   "metadata": {},
   "outputs": [],
   "source": [
    "#Calculate Weight for each parameter in the similarity index\n",
    "def calculate_weight(ref_val, upper_lim, lower_lim, threshold=0.8):\n",
    "  \n",
    "  wa = math.log(threshold)/math.log(1-((ref_val - upper_lim)/(ref_val + upper_lim)))\n",
    "  wb = math.log(threshold)/math.log(1-((lower_lim - ref_val)/(lower_lim + ref_val)))\n",
    "  weight = round(math.sqrt(wa*wb), 2)\n",
    "  \n",
    "  return weight"
   ]
  },
  {
   "cell_type": "code",
   "execution_count": 74,
   "id": "1fecfa04",
   "metadata": {},
   "outputs": [],
   "source": [
    "#Calculate Earth Similarity Index for Individual Params\n",
    "\n",
    "def calc_ESI_param(param, lower_lim, upper_lim, threshold = 0.8):\n",
    "\n",
    "#   w = {'radius': 0.57, 'density': 1.07, 'escape_velocity': 0.70, 'revolution': 0.70, 'surface_gravity': 0.13, 'surface_temperature': 5.58\n",
    "#      ,'self': self_defined_weight}\n",
    "  ref_values = {'radius': 1, 'density': 1, 'escape_velocity': 1, 'revolution': 1, 'surface_gravity': 1, 'surface_temperature': 288}\n",
    "  \n",
    "  ESI_P = []\n",
    "\n",
    "  if param in ref_values:\n",
    "    ref_val = ref_values[param]\n",
    "    weight = calculate_weight(ref_val, lower_lim,  upper_lim,  threshold)\n",
    "#   for i in range(len(param)):\n",
    "#     V = round(math.pow(1-abs((param[i] - ref_val)/(ref_val + param[i])), weight), 6)\n",
    "#     ESI_P.append(V)\n",
    "  \n",
    "#   return np.array(ESI_P)\n",
    "    return weight "
   ]
  },
  {
   "cell_type": "code",
   "execution_count": 105,
   "id": "641137ae",
   "metadata": {},
   "outputs": [],
   "source": [
    "#Pass an array of Params to calculate \n",
    "#Pass an array of upper lims for respective Params \n",
    "#Pass an array of lower lims for respective Params\n",
    "\n",
    "def calc_ESI(params, upper_lims=None, lower_lims=None):\n",
    "\n",
    "\n",
    "    #Default Upper Lims\n",
    "    if upper_lims is None:\n",
    "        upper_lims = [2]*len(params)\n",
    "    \n",
    "\n",
    "    #Default Lower Lims \n",
    "    if lower_lims is None:\n",
    "        lower_lims = [0.5]*len(params)\n",
    " \n",
    "        \n",
    "    try:\n",
    "        #Perform sanity checks \n",
    "        len(params) == len(upper_lims) == len(lower_lims)\n",
    "        \n",
    "        for i in range(0, len(upper_lims)):\n",
    "            upper_lims[i]>=lower_lims[i]\n",
    "\n",
    "        #Calculate Weights    \n",
    "        weights = []\n",
    "        for i in range(0, len(params)):\n",
    "            weight = calc_ESI_param(params[i], upper_lims[i], lower_lims[i])\n",
    "            weights.append(weight)\n",
    "\n",
    "        return weights\n",
    "    \n",
    "    except ValueError as e:\n",
    "        print(e)\n",
    "\n",
    "    \n"
   ]
  },
  {
   "cell_type": "code",
   "execution_count": 76,
   "id": "7d9da23c",
   "metadata": {},
   "outputs": [
    {
     "data": {
      "text/plain": [
       "[0.78, 0.78]"
      ]
     },
     "execution_count": 76,
     "metadata": {},
     "output_type": "execute_result"
    }
   ],
   "source": [
    "params = ['radius', 'density']\n",
    "# upper_lims=[2.0, 3.0]\n",
    "# lower_lims = [0.5, 0.8]\n",
    "calc_ESI(params)"
   ]
  },
  {
   "cell_type": "code",
   "execution_count": null,
   "id": "c7aa0092",
   "metadata": {},
   "outputs": [],
   "source": [
    "### MAKE USER ENTER CSV WITH VARIOUS COLUMNS CALCULATE ESI FOR EACH ENTRY \n",
    "\n",
    "#1. Read Column Names \n",
    "#2. Browse column names and select columns which are in the ESI Formula - Data Cleaning features we need to add \n",
    "#3. Give option to add custom parameters - FUTURE WORK \n",
    "#4. Calculate weights for each parameters \n",
    "#5. How to take upper lims and lower lims - FUTURE WORK \n",
    "#6. Calculate ESI \n"
   ]
  },
  {
   "cell_type": "code",
   "execution_count": 94,
   "id": "df5ed51c",
   "metadata": {},
   "outputs": [],
   "source": [
    "def readData(csv):\n",
    "\n",
    "    #1. Read Column Names \n",
    "    df = pd.read_csv(csv, index_col=0) \n",
    "    cols = list(df.columns)\n",
    "    \n",
    "    cols_lower = [col.lower() for col in cols]\n",
    "    \n",
    "\n",
    "    #2. Browse column names and select columns which are in the ESI Formula\n",
    "    columns = ['radius', 'density', 'escape_velocity', 'revolution']\n",
    "    \n",
    "    common_cols = []\n",
    "\n",
    "    for i in range(0, len(columns)):     \n",
    "        for j in range(0, len(cols_lower)):\n",
    "            if columns[i] in cols_lower[j]:\n",
    "                df.rename({cols[j]: columns[i]}, inplace=True, axis=1)\n",
    "                common_cols.append(columns[i])\n",
    "\n",
    "   \n",
    "    new_df = df[common_cols].copy()   \n",
    "\n",
    "    return new_df      \n",
    "\n",
    "\n",
    "\n",
    "\n",
    "new_df = readData(r\"C:\\Users\\raiad\\Downloads\\Rock NESI.csv\")"
   ]
  },
  {
   "cell_type": "code",
   "execution_count": 107,
   "id": "700ab2e9",
   "metadata": {},
   "outputs": [
    {
     "data": {
      "text/plain": [
       "[0.78, 0.78]"
      ]
     },
     "execution_count": 107,
     "metadata": {},
     "output_type": "execute_result"
    }
   ],
   "source": [
    "#4. Calculate weights for each parameters based on default limits\n",
    "new_cols = list(new_df.columns)\n",
    "\n",
    "#OPTIONAL - Pass upper and lower lims or will take default values \n",
    "calc_ESI(new_cols)"
   ]
  }
 ],
 "metadata": {
  "kernelspec": {
   "display_name": "Python 3",
   "language": "python",
   "name": "python3"
  },
  "language_info": {
   "codemirror_mode": {
    "name": "ipython",
    "version": 3
   },
   "file_extension": ".py",
   "mimetype": "text/x-python",
   "name": "python",
   "nbconvert_exporter": "python",
   "pygments_lexer": "ipython3",
   "version": "3.9.7"
  },
  "vscode": {
   "interpreter": {
    "hash": "459b86deefd22d8031ae0409ee7747db5bddab6141f1057e0a9de47e0cb1f8b2"
   }
  }
 },
 "nbformat": 4,
 "nbformat_minor": 5
}
