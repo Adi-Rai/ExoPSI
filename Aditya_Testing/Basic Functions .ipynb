{
 "cells": [
  {
   "cell_type": "code",
   "execution_count": 9,
   "id": "6695f97e",
   "metadata": {},
   "outputs": [],
   "source": [
    "import math\n",
    "import pandas as pd\n",
    "import numpy as np\n",
    "import matplotlib.pyplot as plt"
   ]
  },
  {
   "cell_type": "code",
   "execution_count": 10,
   "id": "1c4e49b6",
   "metadata": {},
   "outputs": [],
   "source": [
    "import csv \n",
    "\n",
    "#Read User Data\n",
    "def readData(file):\n",
    "    #Get Column Names\n",
    "    with open(file) as csv_file:\n",
    "        csv_reader = csv.DictReader(csv_file)\n",
    "        dict_from_csv = dict(list(csv_reader)[0])\n",
    "        column_names = list(dict_from_csv.keys())\n",
    "    return column_names\n",
    "    \n",
    "    "
   ]
  },
  {
   "cell_type": "code",
   "execution_count": 11,
   "id": "a93d2dcf",
   "metadata": {},
   "outputs": [
    {
     "data": {
      "text/plain": [
       "['P. Name',\n",
       " 'P. Name Kepler',\n",
       " 'P. Name KOI',\n",
       " 'P. Composition Class',\n",
       " 'P. Mass (EU)',\n",
       " 'P. Radius (EU)',\n",
       " 'P. Density (EU)',\n",
       " 'P. Gravity (EU)',\n",
       " 'P. Esc Vel (EU)',\n",
       " 'P. Teq Mean (K)',\n",
       " 'P. Ts Mean (K)',\n",
       " 'P. Surf Press (EU)',\n",
       " 'P. Period (days)',\n",
       " 'P. Mean Distance (AU)',\n",
       " 'Distance (Km)',\n",
       " 'S. Mass (SU)',\n",
       " 'S.Mass (Kg)',\n",
       " 'Rev (Days)',\n",
       " 'Rev (EU)',\n",
       " 'ESI(R)',\n",
       " 'ESI(D)',\n",
       " 'ESI (Ve)',\n",
       " 'ESI(T)',\n",
       " 'ESI(Rev)',\n",
       " 'ESI(g)',\n",
       " 'ESI_I',\n",
       " 'ESI_S',\n",
       " 'ESI']"
      ]
     },
     "execution_count": 11,
     "metadata": {},
     "output_type": "execute_result"
    }
   ],
   "source": [
    "readData(r\"C:\\Users\\raiad\\Downloads\\Rock NESI.csv\")"
   ]
  },
  {
   "cell_type": "code",
   "execution_count": 10,
   "id": "d50b54e9",
   "metadata": {},
   "outputs": [],
   "source": [
    "#Calculate Weight for each parameter in the similarity index\n",
    "def calculate_weight(ref_val, upper_lim, lower_lim, threshold=0.8):\n",
    "  \n",
    "  wa = math.log(threshold)/math.log(1-((ref_val - upper_lim)/(ref_val + upper_lim)))\n",
    "  wb = math.log(threshold)/math.log(1-((lower_lim - ref_val)/(lower_lim + ref_val)))\n",
    "  weight = round(math.sqrt(wa*wb), 2)\n",
    "  \n",
    "  return weight"
   ]
  },
  {
   "cell_type": "code",
   "execution_count": 12,
   "id": "1fecfa04",
   "metadata": {},
   "outputs": [],
   "source": [
    "#Calculate Earth Similarity Index for Individual Params\n",
    "\n",
    "def calc_ESI_param(param, lower_lim, upper_lim, threshold = 0.8):\n",
    "\n",
    "#   w = {'radius': 0.57, 'density': 1.07, 'escape_velocity': 0.70, 'revolution': 0.70, 'surface_gravity': 0.13, 'surface_temperature': 5.58\n",
    "#      ,'self': self_defined_weight}\n",
    "  ref_values = {'radius': 1, 'density': 1, 'escape_velocity': 1, 'revolution': 1, 'surface_gravity': 1, 'surface_temperature': 288}\n",
    "  \n",
    "  ESI_P = []\n",
    "\n",
    "  if param in ref_values:\n",
    "    ref_val = ref_values[param]\n",
    "    weight = calculate_weight(ref_val, lower_lim,  upper_lim,  threshold)\n",
    "#   for i in range(len(param)):\n",
    "#     V = round(math.pow(1-abs((param[i] - ref_val)/(ref_val + param[i])), weight), 6)\n",
    "#     ESI_P.append(V)\n",
    "  \n",
    "#   return np.array(ESI_P)\n",
    "  return weight "
   ]
  },
  {
   "cell_type": "code",
   "execution_count": 20,
   "id": "641137ae",
   "metadata": {},
   "outputs": [],
   "source": [
    "#Pass an array of Params to calculate \n",
    "#Pass an array of upper lims for respective Params \n",
    "#Pass an array of lower lims for respective Params\n",
    "\n",
    "def calc_ESI(params, upper_lims, lower_lims):\n",
    "    try:\n",
    "        #Perform sanity checks \n",
    "        len(params) == len(upper_lims) == len(lower_lims)\n",
    "        \n",
    "        for i in range(0, len(upper_lims)):\n",
    "            upper_lims[i]>=lower_lims[i]\n",
    "\n",
    "        #Calculate Weights    \n",
    "        weights = []\n",
    "        for i in range(0, len(params)):\n",
    "            weight = calc_ESI_param(params[i], upper_lims[i], lower_lims[i])\n",
    "            weights.append(weight)\n",
    "\n",
    "        return weights\n",
    "    \n",
    "    except ValueError as e:\n",
    "        print(e)\n",
    "\n",
    "    \n"
   ]
  },
  {
   "cell_type": "code",
   "execution_count": 23,
   "id": "7d9da23c",
   "metadata": {},
   "outputs": [
    {
     "data": {
      "text/plain": [
       "[0.78, 1.08]"
      ]
     },
     "execution_count": 23,
     "metadata": {},
     "output_type": "execute_result"
    }
   ],
   "source": [
    "params = ['radius', 'density']\n",
    "upper_lims=[2.0, 3.0]\n",
    "lower_lims = [0.5, 0.8]\n",
    "calc_ESI(params, upper_lims, lower_lims)"
   ]
  }
 ],
 "metadata": {
  "kernelspec": {
   "display_name": "Python 3",
   "language": "python",
   "name": "python3"
  },
  "language_info": {
   "codemirror_mode": {
    "name": "ipython",
    "version": 3
   },
   "file_extension": ".py",
   "mimetype": "text/x-python",
   "name": "python",
   "nbconvert_exporter": "python",
   "pygments_lexer": "ipython3",
   "version": "3.9.7"
  },
  "vscode": {
   "interpreter": {
    "hash": "459b86deefd22d8031ae0409ee7747db5bddab6141f1057e0a9de47e0cb1f8b2"
   }
  }
 },
 "nbformat": 4,
 "nbformat_minor": 5
}
