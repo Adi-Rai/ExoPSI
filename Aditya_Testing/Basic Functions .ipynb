{
 "cells": [
  {
   "cell_type": "code",
   "execution_count": 1,
   "id": "6695f97e",
   "metadata": {},
   "outputs": [],
   "source": [
    "import math\n",
    "import pandas as pd\n",
    "import numpy as np\n",
    "import matplotlib.pyplot as plt"
   ]
  },
  {
   "cell_type": "code",
   "execution_count": 45,
   "id": "d50b54e9",
   "metadata": {},
   "outputs": [],
   "source": [
    "#Calculate Weight for each parameter in the similarity index\n",
    "def calculate_weight(ref_val, upper_lim, lower_lim, threshold=0.8):\n",
    "  \n",
    "  w_lower = math.log(threshold)/math.log(1-((ref_val - lower_lim)/(ref_val + lower_lim)))\n",
    "  w_upper = math.log(threshold)/math.log(1-((upper_lim - ref_val)/(upper_lim + ref_val)))\n",
    "  weight = round(math.sqrt(w_lower*w_upper), 2)\n",
    "  \n",
    "  return weight"
   ]
  },
  {
   "cell_type": "code",
   "execution_count": 242,
   "id": "1fecfa04",
   "metadata": {},
   "outputs": [],
   "source": [
    "#Calculate Earth Similarity Index for Individual Params\n",
    "\n",
    "def calc_ESI_param(param, upper_lim, lower_lim,ref_val, threshold = 0.8):\n",
    "  w = {'radius': 0.57, 'density': 1.07, 'escape_velocity': 0.70, 'revolution': 0.70, 'surface_gravity': 0.13, 'surface_temperature': 5.58}\n",
    "\n",
    "  ref_values = {'radius': 1, 'density': 1, 'escape_velocity': 1, 'revolution': 1, 'surface_gravity': 1, 'surface_temperature': 288}\n",
    "  \n",
    "  if (param.columns[0] in ref_values):\n",
    "    if pd.isna(ref_val):\n",
    "        ref_val = ref_values[param.columns[0]]\n",
    "    if pd.isna(upper_lim) or pd.isna(lower_lim):\n",
    "        weight = w[param.columns[0]]\n",
    "    else:\n",
    "        weight = calculate_weight(ref_val, upper_lim,  lower_lim,  threshold)\n",
    "  else:\n",
    "    weight = calculate_weight(ref_val, upper_lim,  lower_lim,  threshold)  \n",
    "    \n",
    "  ESI_P = [] \n",
    "  \n",
    "  for i in range(len(param)):\n",
    "    V = round(math.pow(1-abs((param.iat[i,0] - ref_val)/(ref_val + param.iat[i,0])), weight), 6)\n",
    "    ESI_P.append(V)\n",
    "  \n",
    "  return ESI_P\n",
    "# return weight "
   ]
  },
  {
   "cell_type": "code",
   "execution_count": 243,
   "id": "641137ae",
   "metadata": {},
   "outputs": [],
   "source": [
    "#Pass an array of Params to calculate \n",
    "#Pass an array of upper lims for respective Params \n",
    "#Pass an array of lower lims for respective Params\n",
    "\n",
    "def calc_ESI(params, upper_lims=None, lower_lims=None,ref_val=None):\n",
    "    colnames = list(params.columns)\n",
    "    \n",
    "    #Default Upper Lims\n",
    "    if upper_lims is None:\n",
    "        upper_lims = [float(\"NaN\")]*len(colnames)\n",
    "\n",
    "    #Default Lower Lims \n",
    "    if lower_lims is None:\n",
    "        lower_lims = [float(\"NaN\")]*len(colnames)\n",
    "   \n",
    "    if ref_val is None:\n",
    "        ref_val = [float(\"NaN\")]*len(colnames)\n",
    "        \n",
    "    try:\n",
    "        #Perform sanity checks \n",
    "        len(colnames) == len(upper_lims) == len(lower_lims) == len(ref_val)\n",
    "        \n",
    "        for i in range(0, len(upper_lims)):\n",
    "            upper_lims[i]>=lower_lims[i]\n",
    "\n",
    "        #Calculate Weights    \n",
    "        ESI_df = pd.DataFrame()\n",
    "        for i in range(0, len(colnames)):\n",
    "            ESI_param = calc_ESI_param(params.iloc[:,[i]], upper_lims[i], lower_lims[i],ref_val[i])\n",
    "            ESI_colname = \"ESI_{}\".format(colnames[i])\n",
    "            ESI_df[ESI_colname] = ESI_param\n",
    "\n",
    "        return ESI_df\n",
    "    \n",
    "    except ValueError as e:\n",
    "        print(e)\n",
    "\n",
    "    \n"
   ]
  },
  {
   "cell_type": "code",
   "execution_count": 244,
   "id": "7d9da23c",
   "metadata": {},
   "outputs": [
    {
     "data": {
      "text/html": [
       "<div>\n",
       "<style scoped>\n",
       "    .dataframe tbody tr th:only-of-type {\n",
       "        vertical-align: middle;\n",
       "    }\n",
       "\n",
       "    .dataframe tbody tr th {\n",
       "        vertical-align: top;\n",
       "    }\n",
       "\n",
       "    .dataframe thead th {\n",
       "        text-align: right;\n",
       "    }\n",
       "</style>\n",
       "<table border=\"1\" class=\"dataframe\">\n",
       "  <thead>\n",
       "    <tr style=\"text-align: right;\">\n",
       "      <th></th>\n",
       "      <th>ESI_radius</th>\n",
       "      <th>ESI_density</th>\n",
       "    </tr>\n",
       "  </thead>\n",
       "  <tbody>\n",
       "    <tr>\n",
       "      <th>0</th>\n",
       "      <td>0.795160</td>\n",
       "      <td>0.968867</td>\n",
       "    </tr>\n",
       "    <tr>\n",
       "      <th>1</th>\n",
       "      <td>0.849972</td>\n",
       "      <td>0.949134</td>\n",
       "    </tr>\n",
       "    <tr>\n",
       "      <th>2</th>\n",
       "      <td>0.975223</td>\n",
       "      <td>0.937854</td>\n",
       "    </tr>\n",
       "    <tr>\n",
       "      <th>3</th>\n",
       "      <td>0.760925</td>\n",
       "      <td>0.797841</td>\n",
       "    </tr>\n",
       "    <tr>\n",
       "      <th>4</th>\n",
       "      <td>0.807548</td>\n",
       "      <td>0.890053</td>\n",
       "    </tr>\n",
       "    <tr>\n",
       "      <th>...</th>\n",
       "      <td>...</td>\n",
       "      <td>...</td>\n",
       "    </tr>\n",
       "    <tr>\n",
       "      <th>1562</th>\n",
       "      <td>0.957080</td>\n",
       "      <td>0.955483</td>\n",
       "    </tr>\n",
       "    <tr>\n",
       "      <th>1563</th>\n",
       "      <td>0.822139</td>\n",
       "      <td>0.790986</td>\n",
       "    </tr>\n",
       "    <tr>\n",
       "      <th>1564</th>\n",
       "      <td>0.962169</td>\n",
       "      <td>0.949666</td>\n",
       "    </tr>\n",
       "    <tr>\n",
       "      <th>1565</th>\n",
       "      <td>0.862991</td>\n",
       "      <td>0.963860</td>\n",
       "    </tr>\n",
       "    <tr>\n",
       "      <th>1566</th>\n",
       "      <td>0.846351</td>\n",
       "      <td>0.944321</td>\n",
       "    </tr>\n",
       "  </tbody>\n",
       "</table>\n",
       "<p>1567 rows × 2 columns</p>\n",
       "</div>"
      ],
      "text/plain": [
       "      ESI_radius  ESI_density\n",
       "0       0.795160     0.968867\n",
       "1       0.849972     0.949134\n",
       "2       0.975223     0.937854\n",
       "3       0.760925     0.797841\n",
       "4       0.807548     0.890053\n",
       "...          ...          ...\n",
       "1562    0.957080     0.955483\n",
       "1563    0.822139     0.790986\n",
       "1564    0.962169     0.949666\n",
       "1565    0.862991     0.963860\n",
       "1566    0.846351     0.944321\n",
       "\n",
       "[1567 rows x 2 columns]"
      ]
     },
     "execution_count": 244,
     "metadata": {},
     "output_type": "execute_result"
    }
   ],
   "source": [
    "params = ['radius', 'density']\n",
    "upper_lims=[1.9, 1.5]\n",
    "lower_lims = [0.5, 0.7]\n",
    "ref_val = [1,1]\n",
    "calc_ESI(new_df,upper_lims,lower_lims)"
   ]
  },
  {
   "cell_type": "code",
   "execution_count": 49,
   "id": "c7aa0092",
   "metadata": {},
   "outputs": [],
   "source": [
    "### MAKE USER ENTER CSV WITH VARIOUS COLUMNS CALCULATE ESI FOR EACH ENTRY \n",
    "\n",
    "#1. Read Column Names \n",
    "#2. Browse column names and select columns which are in the ESI Formula - Data Cleaning features we need to add \n",
    "#3. Give option to add custom parameters - FUTURE WORK \n",
    "#4. Calculate weights for each parameters \n",
    "#5. How to take upper lims and lower lims - FUTURE WORK \n",
    "#6. Calculate ESI \n"
   ]
  },
  {
   "cell_type": "code",
   "execution_count": 237,
   "id": "df5ed51c",
   "metadata": {},
   "outputs": [
    {
     "name": "stdout",
     "output_type": "stream",
     "text": [
      "['P. Name Kepler', 'P. Name KOI', 'P. Composition Class', 'P. Mass (EU)', 'P. Radius (EU)', 'P. Density (EU)', 'P. Gravity (EU)', 'P. Esc Vel (EU)', 'P. Teq Mean (K)', 'P. Ts Mean (K)', 'P. Surf Press (EU)', 'P. Period (days)', 'P. Mean Distance (AU)', 'Distance (Km)', 'S. Mass (SU)', 'S.Mass (Kg)', 'Rev (Days)', 'Rev (EU)', 'ESI(R)', 'ESI(D)', 'ESI (Ve)', 'ESI(T)', 'ESI(Rev)', 'ESI(g)', 'ESI_I', 'ESI_S', 'ESI']\n",
      "['p. name kepler', 'p. name koi', 'p. composition class', 'p. mass (eu)', 'p. radius (eu)', 'p. density (eu)', 'p. gravity (eu)', 'p. esc vel (eu)', 'p. teq mean (k)', 'p. ts mean (k)', 'p. surf press (eu)', 'p. period (days)', 'p. mean distance (au)', 'distance (km)', 's. mass (su)', 's.mass (kg)', 'rev (days)', 'rev (eu)', 'esi(r)', 'esi(d)', 'esi (ve)', 'esi(t)', 'esi(rev)', 'esi(g)', 'esi_i', 'esi_s', 'esi']\n"
     ]
    }
   ],
   "source": [
    "def readData(csv):\n",
    "\n",
    "    #1. Read Column Names \n",
    "    df = pd.read_csv(csv, index_col=0) \n",
    "    cols = list(df.columns)\n",
    "    print(cols)\n",
    "    cols_lower = [col.lower() for col in cols]\n",
    "    print(cols_lower)\n",
    "\n",
    "    #2. Browse column names and select columns which are in the ESI Formula\n",
    "    columns = ['radius', 'density', 'escape_velocity', 'revolution']\n",
    "    \n",
    "    common_cols = []\n",
    "\n",
    "    for i in range(0, len(columns)):     \n",
    "        for j in range(0, len(cols_lower)):\n",
    "            if columns[i] in cols_lower[j]:\n",
    "                df.rename({cols[j]: columns[i]}, inplace=True, axis=1)\n",
    "                common_cols.append(columns[i])\n",
    "\n",
    "   \n",
    "    new_df = df[common_cols].copy()   \n",
    "\n",
    "    return new_df      \n",
    "\n",
    "\n",
    "\n",
    "\n",
    "new_df = readData(r\"D:/Downloads/Rock NESI.csv\")"
   ]
  },
  {
   "cell_type": "code",
   "execution_count": 238,
   "id": "700ab2e9",
   "metadata": {},
   "outputs": [
    {
     "name": "stdout",
     "output_type": "stream",
     "text": [
      "              radius  density\n",
      "P. Name                      \n",
      "55 Cnc e        1.99     1.06\n",
      "61 Vir b        1.66     1.10\n",
      "alf Cen B b     1.09     0.89\n",
      "BD+20 594 b     2.23     1.47\n",
      "BD-06 1339 b    1.91     1.23\n",
      "...              ...      ...\n",
      "TRAPPIST-1 d    1.16     0.92\n",
      "WASP-47 e       1.82     1.49\n",
      "Wolf 1061 b     1.14     0.91\n",
      "Wolf 1061 c     1.59     1.07\n",
      "Wolf 1061 d     1.68     1.11\n",
      "\n",
      "[1567 rows x 2 columns]\n"
     ]
    }
   ],
   "source": [
    "#4. Calculate weights for each parameters based on default limits\n",
    "new_cols = list(new_df.columns)\n",
    "print (new_df)\n",
    "#OPTIONAL - Pass upper and lower lims or will take default values \n",
    "#calc_ESI(new_cols,upper_lims, lower_lims)"
   ]
  },
  {
   "cell_type": "code",
   "execution_count": 239,
   "id": "3c92c97f",
   "metadata": {},
   "outputs": [
    {
     "data": {
      "text/plain": [
       "Index(['radius', 'density'], dtype='object')"
      ]
     },
     "execution_count": 239,
     "metadata": {},
     "output_type": "execute_result"
    }
   ],
   "source": [
    "new_df.columns"
   ]
  },
  {
   "cell_type": "code",
   "execution_count": null,
   "id": "7e951af3",
   "metadata": {},
   "outputs": [],
   "source": []
  }
 ],
 "metadata": {
  "kernelspec": {
   "display_name": "Python 3 (ipykernel)",
   "language": "python",
   "name": "python3"
  },
  "language_info": {
   "codemirror_mode": {
    "name": "ipython",
    "version": 3
   },
   "file_extension": ".py",
   "mimetype": "text/x-python",
   "name": "python",
   "nbconvert_exporter": "python",
   "pygments_lexer": "ipython3",
   "version": "3.9.13"
  },
  "vscode": {
   "interpreter": {
    "hash": "459b86deefd22d8031ae0409ee7747db5bddab6141f1057e0a9de47e0cb1f8b2"
   }
  }
 },
 "nbformat": 4,
 "nbformat_minor": 5
}
